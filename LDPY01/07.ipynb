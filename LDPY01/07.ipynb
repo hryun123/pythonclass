{
 "cells": [
  {
   "cell_type": "markdown",
   "metadata": {},
   "source": [
    "# Classes"
   ]
  },
  {
   "cell_type": "markdown",
   "metadata": {},
   "source": [
    "Variables, Lists, Dictionaries (and in fact everything else) in Python are objects. Without getting into the theory part of Object Oriented Programming, explanation of the concepts will be covered in this tutorial."
   ]
  },
  {
   "cell_type": "markdown",
   "metadata": {},
   "source": [
    "A class is declared as follows"
   ]
  },
  {
   "cell_type": "markdown",
   "metadata": {},
   "source": [
    "```python\n",
    "class Class_Name:\n",
    "    methods (functions)```\n"
   ]
  },
  {
   "cell_type": "code",
   "execution_count": 1,
   "metadata": {},
   "outputs": [],
   "source": [
    "class FirstClass:\n",
    "    \"This is an empty class\"\n",
    "    pass\n",
    "       "
   ]
  },
  {
   "cell_type": "markdown",
   "metadata": {},
   "source": [
    "Above, a class named \"FirstClass\" is declared.\n",
    "\n",
    "The docstring at the very top defines the documentation of the class, accessible via `help(FirstClass)`\n",
    "\n",
    "**pass** in python means do nothing - useful when Python requres some code for the program to run, but you don't want to type it yet.\n",
    "\n",
    "It is not useful on its own. To use it we can create instances of the class (as many as we like) and assign them each to a variable name in the usual way. We'll create one called \"my_instance\" which is an instance of the class \"FirstClass\"."
   ]
  },
  {
   "cell_type": "code",
   "execution_count": 54,
   "metadata": {},
   "outputs": [],
   "source": [
    "my_instance = FirstClass()"
   ]
  },
  {
   "cell_type": "code",
   "execution_count": 55,
   "metadata": {},
   "outputs": [
    {
     "data": {
      "text/plain": [
       "__main__.FirstClass"
      ]
     },
     "execution_count": 55,
     "metadata": {},
     "output_type": "execute_result"
    }
   ],
   "source": [
    "type(my_instance)"
   ]
  },
  {
   "cell_type": "code",
   "execution_count": 56,
   "metadata": {},
   "outputs": [
    {
     "data": {
      "text/plain": [
       "type"
      ]
     },
     "execution_count": 56,
     "metadata": {},
     "output_type": "execute_result"
    }
   ],
   "source": [
    "type(FirstClass)"
   ]
  },
  {
   "cell_type": "markdown",
   "metadata": {},
   "source": [
    "Objects (instances of a class) can hold data. A variable in an object is also called a field or an attribute. To access a field use the notation `object.field`. For example:"
   ]
  },
  {
   "cell_type": "code",
   "execution_count": 66,
   "metadata": {},
   "outputs": [
    {
     "name": "stdout",
     "output_type": "stream",
     "text": [
      "x in obj1 = 5 and x in obj2 = 6\n"
     ]
    }
   ],
   "source": [
    "obj1 = FirstClass()\n",
    "obj2 = FirstClass()\n",
    "obj1.x = 5\n",
    "obj2.x = 6\n",
    "print(\"x in obj1 =\",obj1.x,\"and x in obj2 =\",obj2.x)"
   ]
  },
  {
   "cell_type": "markdown",
   "metadata": {},
   "source": [
    "The functions add \"functionality\" to the class and behave as normal function do.  A function inside a class is called as a \"Method\" are used with instances of the class. Note the first argument always passed to a method by Python is the instance itself. We store it in a variable named \"self\"."
   ]
  },
  {
   "cell_type": "code",
   "execution_count": 78,
   "metadata": {},
   "outputs": [
    {
     "name": "stdout",
     "output_type": "stream",
     "text": [
      "1\n",
      "2\n",
      "3\n",
      "resetting the counter...\n",
      "1\n",
      "2\n"
     ]
    }
   ],
   "source": [
    "class Counter:\n",
    "       \n",
    "    def reset(self, init=0):\n",
    "        self.count = init\n",
    "        \n",
    "    def getCount(self):\n",
    "        self.count += 1\n",
    "        return self.count\n",
    "    \n",
    "my_counter = Counter()\n",
    "my_counter.reset()\n",
    "print(my_counter.getCount())\n",
    "print(my_counter.getCount())\n",
    "print(my_counter.getCount())\n",
    "\n",
    "print(\"resetting the counter...\")\n",
    "my_counter.reset(0)\n",
    "print(my_counter.getCount())\n",
    "print(my_counter.getCount())\n"
   ]
  },
  {
   "cell_type": "markdown",
   "metadata": {},
   "source": [
    "Note that the `reset()` and function and the `getCount()` method are callled with one less argument than they are declared with. As mentioned, the `self` argument is set by Python and is the instance of the class itself that the method is being called from. Here `my_counter.reset(0)` is equivalent to `Counter.reset(my_counter, 0)`.\n",
    "Using **self** as the name of the first argument of a method is simply a common convention. Python allows any name to be used.\n",
    "\n",
    "Note that here it would be better if we could initialise Counter objects immediately when the instance is created with a default value of `count` rather than having to call `reset()` the first time. A constructor method is declared in Python with the special name `__init__` which is called when the instance is defined."
   ]
  },
  {
   "cell_type": "code",
   "execution_count": 79,
   "metadata": {},
   "outputs": [],
   "source": [
    "class FirstClass:\n",
    "    def __init__(self, name, symbol):\n",
    "        self.name = name\n",
    "        self.symbol = symbol"
   ]
  },
  {
   "cell_type": "markdown",
   "metadata": {},
   "source": [
    "Now that we have defined a function and added the \\_\\_init\\_\\_ method. We can create a instance of FirstClass which now accepts two arguments. "
   ]
  },
  {
   "cell_type": "code",
   "execution_count": 80,
   "metadata": {},
   "outputs": [],
   "source": [
    "eg1 = FirstClass('one',1)\n",
    "eg2 = FirstClass('two',2)"
   ]
  },
  {
   "cell_type": "code",
   "execution_count": 81,
   "metadata": {},
   "outputs": [
    {
     "name": "stdout",
     "output_type": "stream",
     "text": [
      "one 1\n",
      "two 2\n"
     ]
    }
   ],
   "source": [
    "print(eg1.name, eg1.symbol)\n",
    "print(eg2.name, eg2.symbol)"
   ]
  },
  {
   "cell_type": "markdown",
   "metadata": {},
   "source": [
    "**dir( )** function comes very handy in looking into what the class contains and what all method it offers"
   ]
  },
  {
   "cell_type": "code",
   "execution_count": 87,
   "metadata": {},
   "outputs": [
    {
     "name": "stdout",
     "output_type": "stream",
     "text": [
      "Contents of Counter class: ['__class__', '__delattr__', '__dict__', '__dir__', '__doc__', '__eq__', '__format__', '__ge__', '__getattribute__', '__gt__', '__hash__', '__init__', '__init_subclass__', '__le__', '__lt__', '__module__', '__ne__', '__new__', '__reduce__', '__reduce_ex__', '__repr__', '__setattr__', '__sizeof__', '__str__', '__subclasshook__', '__weakref__', 'getCount', 'reset']\n",
      "\n",
      "\n",
      "Contents of counter object: ['__class__', '__delattr__', '__dict__', '__dir__', '__doc__', '__eq__', '__format__', '__ge__', '__getattribute__', '__gt__', '__hash__', '__init__', '__init_subclass__', '__le__', '__lt__', '__module__', '__ne__', '__new__', '__reduce__', '__reduce_ex__', '__repr__', '__setattr__', '__sizeof__', '__str__', '__subclasshook__', '__weakref__', 'count', 'getCount', 'reset']\n"
     ]
    }
   ],
   "source": [
    "print(\"Contents of Counter class:\",dir(Counter))\n",
    "print(\"\\n\")\n",
    "print(\"Contents of counter object:\", dir(my_counter))"
   ]
  },
  {
   "cell_type": "markdown",
   "metadata": {},
   "source": [
    "**dir( )** of an instance also shows it's defined attributes so the object has the additional 'count' attribute."
   ]
  },
  {
   "cell_type": "markdown",
   "metadata": {},
   "source": [
    "Changing the FirstClass function a bit,"
   ]
  },
  {
   "cell_type": "markdown",
   "metadata": {
    "collapsed": true
   },
   "source": [
    "Just like global and local variables as we saw earlier, even classes have it's own types of variables.\n",
    "\n",
    "Class Attribute : attributes defined outside the methods (at the top) and is applicable to the Class itself and all instances of it.\n",
    "\n",
    "Instance Attribute : attributes defined inside a method, is prescripted with self.<attribute_name> and is unique to each instance."
   ]
  },
  {
   "cell_type": "code",
   "execution_count": 88,
   "metadata": {},
   "outputs": [],
   "source": [
    "class FirstClass:\n",
    "    test = 'test' # a class attribute\n",
    "    \n",
    "    def __init__(self,n,s):\n",
    "        self.name = n # an instance attribute\n",
    "        self.symbol = s # another instance attribute"
   ]
  },
  {
   "cell_type": "markdown",
   "metadata": {},
   "source": [
    "Here test is a class attribute and name is a instance attribute."
   ]
  },
  {
   "cell_type": "code",
   "execution_count": 89,
   "metadata": {},
   "outputs": [],
   "source": [
    "eg3 = FirstClass('Three', 3)"
   ]
  },
  {
   "cell_type": "code",
   "execution_count": 91,
   "metadata": {},
   "outputs": [
    {
     "name": "stdout",
     "output_type": "stream",
     "text": [
      "test Three 3\n"
     ]
    }
   ],
   "source": [
    "print(eg3.test, eg3.name, eg3.symbol)"
   ]
  },
  {
   "cell_type": "markdown",
   "metadata": {},
   "source": [
    "## Inheritance"
   ]
  },
  {
   "cell_type": "markdown",
   "metadata": {},
   "source": [
    "There might be cases where a new class would have all the previous characteristics of an already defined class. So the new class can \"inherit\" the previous class and add it's own methods to it. This is called as inheritance."
   ]
  },
  {
   "cell_type": "markdown",
   "metadata": {},
   "source": [
    "Consider class SoftwareEngineer which has a method salary."
   ]
  },
  {
   "cell_type": "code",
   "execution_count": 187,
   "metadata": {},
   "outputs": [],
   "source": [
    "class Engineer:\n",
    "    \n",
    "    def __init__(self, name, age):\n",
    "        self.name = name\n",
    "        self.age = age\n",
    "        \n",
    "    def set_salary(self, value):\n",
    "        self.salary = value\n",
    "        \n",
    "    def get_salary(self):\n",
    "        result = \"$%s\" % self.salary\n",
    "        return result"
   ]
  },
  {
   "cell_type": "code",
   "execution_count": 188,
   "metadata": {},
   "outputs": [],
   "source": [
    "a = Engineer('Kartik',26)"
   ]
  },
  {
   "cell_type": "code",
   "execution_count": 189,
   "metadata": {},
   "outputs": [],
   "source": [
    "a.set_salary(40000)"
   ]
  },
  {
   "cell_type": "code",
   "execution_count": 190,
   "metadata": {},
   "outputs": [
    {
     "data": {
      "text/plain": [
       "'$40000'"
      ]
     },
     "execution_count": 190,
     "metadata": {},
     "output_type": "execute_result"
    }
   ],
   "source": [
    "a.get_salary()"
   ]
  },
  {
   "cell_type": "code",
   "execution_count": 191,
   "metadata": {},
   "outputs": [
    {
     "data": {
      "text/plain": [
       "['salary']"
      ]
     },
     "execution_count": 191,
     "metadata": {},
     "output_type": "execute_result"
    }
   ],
   "source": [
    "[ name for name in dir(SoftwareEngineer) if not name.startswith(\"_\")]"
   ]
  },
  {
   "cell_type": "markdown",
   "metadata": {},
   "source": [
    "Now consider another class DevopsEngineer which describes salary and speciality"
   ]
  },
  {
   "cell_type": "code",
   "execution_count": 192,
   "metadata": {},
   "outputs": [],
   "source": [
    "class DevopsEngineer:\n",
    "\n",
    "    def __init__(self, name, age):\n",
    "        self.name = name\n",
    "        self.age = age\n",
    "        self.salary = None\n",
    "        self.speciality = None\n",
    "        \n",
    "    def set_salary(self, value):\n",
    "        self.salary = value\n",
    "        \n",
    "    def set_speciality(self, speciality):\n",
    "        self.speciality = speciality\n",
    "        \n",
    "    def get_details(self):\n",
    "        return \"%s is %s years old, earns $%s/year and specialises in %s\" % (self.name, self.age, self.salary, self.speciality)"
   ]
  },
  {
   "cell_type": "code",
   "execution_count": 193,
   "metadata": {},
   "outputs": [],
   "source": [
    "b = DevopsEngineer('Nitin',20)"
   ]
  },
  {
   "cell_type": "code",
   "execution_count": 194,
   "metadata": {},
   "outputs": [],
   "source": [
    "b.set_salary(50000)\n",
    "b.set_speciality('Python')"
   ]
  },
  {
   "cell_type": "code",
   "execution_count": 195,
   "metadata": {},
   "outputs": [
    {
     "data": {
      "text/plain": [
       "'Nitin is 20 years old, earns $50000/year and specialises in Python'"
      ]
     },
     "execution_count": 195,
     "metadata": {},
     "output_type": "execute_result"
    }
   ],
   "source": [
    "b.get_details()"
   ]
  },
  {
   "cell_type": "code",
   "execution_count": 196,
   "metadata": {},
   "outputs": [
    {
     "data": {
      "text/plain": [
       "['age',\n",
       " 'get_details',\n",
       " 'name',\n",
       " 'salary',\n",
       " 'set_salary',\n",
       " 'set_speciality',\n",
       " 'speciality']"
      ]
     },
     "execution_count": 196,
     "metadata": {},
     "output_type": "execute_result"
    }
   ],
   "source": [
    "[ name for name in dir(b) if not name.startswith(\"_\")]"
   ]
  },
  {
   "cell_type": "markdown",
   "metadata": {},
   "source": [
    "Both the Engineer class and the DevopsEngineer class define salary. Lets generalize the methods inherit the Engineer class from the DevopsEngineer class:"
   ]
  },
  {
   "cell_type": "code",
   "execution_count": 203,
   "metadata": {},
   "outputs": [],
   "source": [
    "class DevopsEngineer(Engineer):\n",
    "    \n",
    "    def __init__(self, name, age):\n",
    "        super().__init__(name, age)\n",
    "        self.speciality = None\n",
    "        \n",
    "    def set_speciality(self, speciality):\n",
    "        self.speciality = speciality\n",
    "        \n",
    "    def get_details(self):\n",
    "        return \"%s is %s years old, earns $%s/year and specialises in %s\" % (self.name, self.age, self.salary, self.speciality)"
   ]
  },
  {
   "cell_type": "code",
   "execution_count": 204,
   "metadata": {},
   "outputs": [],
   "source": [
    "c = DevopsEngineer('Nishanth',21)"
   ]
  },
  {
   "cell_type": "code",
   "execution_count": 206,
   "metadata": {},
   "outputs": [
    {
     "data": {
      "text/plain": [
       "'Nishanth is 21 years old, earns $60000/year and specialises in Linux'"
      ]
     },
     "execution_count": 206,
     "metadata": {},
     "output_type": "execute_result"
    }
   ],
   "source": [
    "c.set_salary(60000)\n",
    "c.set_speciality('Linux')\n",
    "\n",
    "c.get_details()"
   ]
  },
  {
   "cell_type": "markdown",
   "metadata": {},
   "source": [
    "If the number of input arguments varies from instance to instance asterisk can be used as shown."
   ]
  },
  {
   "cell_type": "code",
   "execution_count": 211,
   "metadata": {},
   "outputs": [],
   "source": [
    "class VariableParameters:\n",
    "    \n",
    "    def __init__(self, *args, **kwargs):\n",
    "        self.args = args\n",
    "        self.kwargs = kwargs\n",
    "    \n",
    "    def get_all_parameters(self):\n",
    "        return(self.args, self.kwargs)"
   ]
  },
  {
   "cell_type": "code",
   "execution_count": 212,
   "metadata": {},
   "outputs": [],
   "source": [
    "yz = VariableParameters('something', 12345, foo=\"test\", bar=[7,8,9])"
   ]
  },
  {
   "cell_type": "code",
   "execution_count": 213,
   "metadata": {},
   "outputs": [
    {
     "data": {
      "text/plain": [
       "(('something', 12345), {'bar': [7, 8, 9], 'foo': 'test'})"
      ]
     },
     "execution_count": 213,
     "metadata": {},
     "output_type": "execute_result"
    }
   ],
   "source": [
    "yz.get_all_parameters()"
   ]
  },
  {
   "cell_type": "markdown",
   "metadata": {},
   "source": [
    "## Introspection\n",
    "We have already seen the `dir()` function for working out what is in a class. Python has many facilities to make introspection easy (that is working out what is in a Python object or module). Some useful functions are **hasattr**, **getattr**, and **setattr**:"
   ]
  },
  {
   "cell_type": "code",
   "execution_count": 216,
   "metadata": {},
   "outputs": [
    {
     "name": "stdout",
     "output_type": "stream",
     "text": [
      "('something', 12345)\n"
     ]
    }
   ],
   "source": [
    "my_instance = VariableParameters('something', 12345, foo=\"test\", bar=[7,8,9])\n",
    "\n",
    "if hasattr(my_instance, 'args'): # check if ns.data exists\n",
    "    setattr(my_instance, 'copy', # set ns.copy\n",
    "            getattr(my_instance,'args')) # get ns.data\n",
    "print(my_instance.copy)"
   ]
  },
  {
   "cell_type": "code",
   "execution_count": 218,
   "metadata": {},
   "outputs": [
    {
     "data": {
      "text/plain": [
       "['args', 'copy', 'get_all_parameters', 'kwargs']"
      ]
     },
     "execution_count": 218,
     "metadata": {},
     "output_type": "execute_result"
    }
   ],
   "source": [
    "[e for e in dir(my_instance) if not e.startswith(\"_\")]"
   ]
  },
  {
   "cell_type": "code",
   "execution_count": null,
   "metadata": {},
   "outputs": [],
   "source": []
  }
 ],
 "metadata": {
  "kernelspec": {
   "display_name": "Python 3",
   "language": "python",
   "name": "python3"
  },
  "language_info": {
   "codemirror_mode": {
    "name": "ipython",
    "version": 3
   },
   "file_extension": ".py",
   "mimetype": "text/x-python",
   "name": "python",
   "nbconvert_exporter": "python",
   "pygments_lexer": "ipython3",
   "version": "3.6.2"
  }
 },
 "nbformat": 4,
 "nbformat_minor": 1
}
