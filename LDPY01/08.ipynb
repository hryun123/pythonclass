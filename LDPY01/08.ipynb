{
 "cells": [
  {
   "cell_type": "markdown",
   "metadata": {},
   "source": [
    "## Working with Files"
   ]
  },
  {
   "cell_type": "markdown",
   "metadata": {},
   "source": [
    "open() returns a file object, and is most commonly used with two arguments: open(filename, mode)."
   ]
  },
  {
   "cell_type": "code",
   "execution_count": 13,
   "metadata": {},
   "outputs": [],
   "source": [
    "f = open('/tmp/workfile', 'w')\n",
    "\n",
    "# write some data to the file\n",
    "f.write(\"This is the first line of the file!\\n\")\n",
    "f.write(\"This is lthe second line...\")\n",
    "\n",
    "# close the file when done.\n",
    "f.close()"
   ]
  },
  {
   "cell_type": "markdown",
   "metadata": {},
   "source": [
    "The first argument is a string containing the filename. The second argument is another string containing a few characters describing the way in which the file will be used. mode can be 'r' when the file will only be read, 'w' for only writing (an existing file with the same name will be erased), and 'a' opens the file for appending; any data written to the file is automatically added to the end. 'r+' opens the file for both reading and writing. The mode argument is optional; 'r' will be assumed if it’s omitted.\n",
    "\n",
    "Normally, files are opened in text mode, that means, you read and write strings from and to the file, which are encoded in a specific encoding. If encoding is not specified, the default is platform dependent (see [open()](https://docs.python.org/3/library/functions.html#open)). 'b' appended to the mode opens the file in binary mode: now the data is read and written in the form of bytes objects. This mode should be used for all files that don’t contain text.\n",
    "\n",
    "In text mode, the default when reading is to convert platform-specific line endings (\\n on Unix, \\r\\n on Windows) to just \\n. When writing in text mode, the default is to convert occurrences of \\n back to platform-specific line endings. This behind-the-scenes modification to file data is fine for text files, but will corrupt binary data like that in JPEG or EXE files. Be very careful to use binary mode when reading and writing such files.\n",
    "\n",
    "It is good practice to use the with keyword when dealing with file objects. The advantage is that the file is properly closed after its suite finishes, even if an exception is raised at some point. Using with is also much shorter than writing equivalent try-finally blocks:"
   ]
  },
  {
   "cell_type": "code",
   "execution_count": 14,
   "metadata": {},
   "outputs": [
    {
     "name": "stdout",
     "output_type": "stream",
     "text": [
      "This is the first line of the file!\n",
      "This is lthe second line...\n"
     ]
    }
   ],
   "source": [
    "with open('/tmp/workfile') as f:\n",
    "    read_data = f.read()\n",
    "    \n",
    "print(read_data)"
   ]
  },
  {
   "cell_type": "markdown",
   "metadata": {},
   "source": [
    "If you’re not using the with keyword, then you should call f.close() to close the file and immediately free up any system resources used by it. If you don’t explicitly close a file, Python’s garbage collector will eventually destroy the object and close the open file for you, but the file may stay open for a while. Another risk is that different Python implementations will do this clean-up at different times.\n",
    "\n",
    "After a file object is closed, either by a with statement or by calling f.close(), attempts to use the file object will automatically fail."
   ]
  },
  {
   "cell_type": "code",
   "execution_count": 11,
   "metadata": {},
   "outputs": [
    {
     "ename": "ValueError",
     "evalue": "I/O operation on closed file.",
     "output_type": "error",
     "traceback": [
      "\u001b[0;31m---------------------------------------------------------------------------\u001b[0m",
      "\u001b[0;31mValueError\u001b[0m                                Traceback (most recent call last)",
      "\u001b[0;32m<ipython-input-11-bacd0e0f09a3>\u001b[0m in \u001b[0;36m<module>\u001b[0;34m()\u001b[0m\n\u001b[0;32m----> 1\u001b[0;31m \u001b[0mf\u001b[0m\u001b[0;34m.\u001b[0m\u001b[0mread\u001b[0m\u001b[0;34m(\u001b[0m\u001b[0;34m)\u001b[0m\u001b[0;34m\u001b[0m\u001b[0m\n\u001b[0m",
      "\u001b[0;31mValueError\u001b[0m: I/O operation on closed file."
     ]
    }
   ],
   "source": [
    "f.read()"
   ]
  },
  {
   "cell_type": "markdown",
   "metadata": {},
   "source": [
    "### Methods of File Objects"
   ]
  },
  {
   "cell_type": "code",
   "execution_count": 17,
   "metadata": {},
   "outputs": [],
   "source": [
    "f = open('/tmp/workfile', 'r+')"
   ]
  },
  {
   "cell_type": "markdown",
   "metadata": {},
   "source": [
    "To read a file’s contents, call f.read(size), which reads some quantity of data and returns it as a string (in text mode) or bytes object (in binary mode). size is an optional numeric argument. When size is omitted or negative, the entire contents of the file will be read and returned; it’s your problem if the file is twice as large as your machine’s memory. Otherwise, at most size bytes are read and returned. If the end of the file has been reached, f.read() will return an empty string ('').\n",
    "\n",
    "For reading lines from a file, you can loop over the file object. This is memory efficient, fast, and leads to simple code:"
   ]
  },
  {
   "cell_type": "code",
   "execution_count": 18,
   "metadata": {},
   "outputs": [
    {
     "name": "stdout",
     "output_type": "stream",
     "text": [
      "This is the first line of the file!\n",
      "This is lthe second line..."
     ]
    }
   ],
   "source": [
    "for line in f:\n",
    "    print(line, end='')"
   ]
  },
  {
   "cell_type": "markdown",
   "metadata": {},
   "source": [
    "f.tell() returns an integer giving the file object’s current position in the file represented as number of bytes from the beginning of the file when in binary mode and an opaque number when in text mode.\n",
    "\n",
    "To change the file object’s position, use f.seek(offset, from_what). The position is computed from adding offset to a reference point; the reference point is selected by the from_what argument. A from_what value of 0 measures from the beginning of the file, 1 uses the current file position, and 2 uses the end of the file as the reference point. from_what can be omitted and defaults to 0, using the beginning of the file as the reference point."
   ]
  },
  {
   "cell_type": "code",
   "execution_count": 19,
   "metadata": {},
   "outputs": [],
   "source": [
    "f = open('/tmp/workfile', 'rb+')"
   ]
  },
  {
   "cell_type": "code",
   "execution_count": 20,
   "metadata": {},
   "outputs": [
    {
     "data": {
      "text/plain": [
       "16"
      ]
     },
     "execution_count": 20,
     "metadata": {},
     "output_type": "execute_result"
    }
   ],
   "source": [
    "f.write(b'0123456789abcdef')"
   ]
  },
  {
   "cell_type": "code",
   "execution_count": 21,
   "metadata": {},
   "outputs": [
    {
     "data": {
      "text/plain": [
       "5"
      ]
     },
     "execution_count": 21,
     "metadata": {},
     "output_type": "execute_result"
    }
   ],
   "source": [
    "f.seek(5)      # Go to the 6th byte in the file"
   ]
  },
  {
   "cell_type": "code",
   "execution_count": 22,
   "metadata": {},
   "outputs": [
    {
     "data": {
      "text/plain": [
       "b'5'"
      ]
     },
     "execution_count": 22,
     "metadata": {},
     "output_type": "execute_result"
    }
   ],
   "source": [
    "f.read(1)"
   ]
  },
  {
   "cell_type": "code",
   "execution_count": 23,
   "metadata": {},
   "outputs": [
    {
     "data": {
      "text/plain": [
       "60"
      ]
     },
     "execution_count": 23,
     "metadata": {},
     "output_type": "execute_result"
    }
   ],
   "source": [
    "f.seek(-3, 2)  # Go to the 3rd byte before the end"
   ]
  },
  {
   "cell_type": "code",
   "execution_count": 24,
   "metadata": {},
   "outputs": [
    {
     "data": {
      "text/plain": [
       "b'.'"
      ]
     },
     "execution_count": 24,
     "metadata": {},
     "output_type": "execute_result"
    }
   ],
   "source": [
    "f.read(1)"
   ]
  },
  {
   "cell_type": "markdown",
   "metadata": {},
   "source": [
    "In text files (those opened without a b in the mode string), only seeks relative to the beginning of the file are allowed (the exception being seeking to the very file end with seek(0, 2)) and the only valid offset values are those returned from the f.tell(), or zero. Any other offset value produces undefined behaviour.\n",
    "\n",
    "File objects have some additional methods, such as isatty() and truncate() which are less frequently used; consult the Library Reference for a complete guide to file objects."
   ]
  },
  {
   "cell_type": "code",
   "execution_count": 25,
   "metadata": {},
   "outputs": [],
   "source": [
    "f.close()"
   ]
  },
  {
   "cell_type": "markdown",
   "metadata": {},
   "source": [
    "### CSV Exercise"
   ]
  },
  {
   "cell_type": "code",
   "execution_count": 1,
   "metadata": {},
   "outputs": [],
   "source": [
    "# use this data to create, read, modify and write a CSV file:\n",
    "\n",
    "data = \"\"\"Mar,13,22:23:16,localhost,systemd[1898]:,Starting,Accessibilityservices bus... \n",
    "Mar,13,22:23:16,localhost,dbus-daemon[1916]:,[session,uid=1000pid=1916] Successfully activated service 'org.a11y.Bus' \n",
    "Mar,13,22:23:16,localhost,systemd[1898]:,Started,Accessibilityservices bus. \n",
    "Mar,13,22:23:16,localhost,at-spi-bus-launcher[2087]:,dbus-daemon[2092]:,\"Activatingservice name='org.a11y.atspi.Registry' requested by ':1.0' (uid=1000 pid=1905 comm=\"\"mate-session \"\" label=\"\"unconfined_u:unconfined_r:unconfi\"\n",
    "Mar,13,22:23:16,localhost,dbus-daemon[1916]:,[session,\"uid=1000pid=1916] Activating service name='ca.desrt.dconf' requested by ':1.28' (uid=1000 pid=1905 comm=\"\"mate-session \"\" label=\"\"unconfined_u:unconfined_r:unconfined_t:s\"\n",
    "Mar,13,22:23:16,localhost,dbus-daemon[1916]:,[session,uid=1000pid=1916] Successfully activated service 'ca.desrt.dconf' \n",
    "Mar,13,22:23:16,localhost,at-spi-bus-launcher[2087]:,dbus-daemon[2092]:,Successfullyactivated service 'org.a11y.atspi.Registry' \n",
    "Mar,13,22:23:16,localhost,at-spi-bus-launcher[2087]:,SpiRegistry,daemonis running with well-known name - org.a11y.atspi.Registry \n",
    "Mar,13,22:23:16,localhost,gnome-keyring-daemon[1895]:,failed,tounlock login keyring on startup \n",
    "Mar,13,22:23:17,localhost,rtkit-daemon[676]:,Successfully,madethread 2124 of process 2124 (/usr/bin/pulseaudio) owned by '1000' high priority at nice level -11. \n",
    "Mar,13,22:23:17,localhost,dbus-daemon[1916]:,[session,uid=1000pid=1916] Activating via systemd: service name='org.gtk.vfs.UDisks2VolumeMonitor' unit='gvfs-udisks2-volume-monitor.service' requested by ':1.35' (uid=1000 pid\n",
    "Mar,13,22:23:17,localhost,systemd[1898]:,Starting,Virtualfilesystem service - disk device monitor... \n",
    "Mar,13,22:23:17,localhost,pulseaudio[2124]:,[pulseaudio],alsa-util.c:Disabling timer-based scheduling because running inside a VM. \n",
    "Mar,13,22:23:17,localhost,pulseaudio[2124]:,[pulseaudio],sink.c:Default and alternate sample rates are the same. \n",
    "Mar,13,22:23:17,localhost,dbus-daemon[1916]:,[session,uid=1000pid=1916] Successfully activated service 'org.gtk.vfs.UDisks2VolumeMonitor' \n",
    "Mar,13,22:23:17,localhost,systemd[1898]:,Started,Virtualfilesystem service - disk device monitor. \n",
    "Mar,13,22:23:17,localhost,dbus-daemon[1916]:,[session,uid=1000pid=1916] Activating via systemd: service name='org.gtk.vfs.MTPVolumeMonitor' unit='gvfs-mtp-volume-monitor.service' requested by ':1.35' (uid=1000 pid=2116 co\n",
    "Mar,13,22:23:17,localhost,rtkit-daemon[676]:,Successfully,madethread 2134 of process 2124 (/usr/bin/pulseaudio) owned by '1000' RT at priority 5. \n",
    "Mar,13,22:23:17,localhost,pulseaudio[2124]:,[pulseaudio],alsa-util.c:Disabling timer-based scheduling because running inside a VM. \n",
    "Mar,13,22:23:17,localhost,systemd[1898]:,Starting,Virtualfilesystem service - Media Transfer Protocol monitor... \n",
    "Mar,13,22:23:17,localhost,dbus-daemon[1916]:,[session,uid=1000pid=1916] Successfully activated service 'org.gtk.vfs.MTPVolumeMonitor' \n",
    "Mar,13,22:23:17,localhost,systemd[1898]:,Started,Virtualfilesystem service - Media Transfer Protocol monitor. \n",
    "Mar,13,22:23:17,localhost,dbus-daemon[1916]:,[session,uid=1000pid=1916] Activating via systemd: service name='org.gtk.vfs.GPhoto2VolumeMonitor' unit='gvfs-gphoto2-volume-monitor.service' requested by ':1.35' (uid=1000 pid\n",
    "Mar,13,22:23:17,localhost,systemd[1898]:,Starting,Virtualfilesystem service - digital camera monitor... \n",
    "Mar,13,22:23:17,localhost,rtkit-daemon[676]:,Successfully,madethread 2139 of process 2124 (/usr/bin/pulseaudio) owned by '1000' RT at priority 5. \n",
    "Mar,13,22:23:17,localhost,dbus-daemon[1916]:,[session,uid=1000pid=1916] Successfully activated service 'org.gtk.vfs.GPhoto2VolumeMonitor' \n",
    "Mar,13,22:23:17,localhost,systemd[1898]:,Started,Virtualfilesystem service - digital camera monitor. \n",
    "Mar,13,22:23:17,localhost,dbus-daemon[1916]:,[session,uid=1000pid=1916] Activating via systemd: service name='org.gtk.vfs.AfcVolumeMonitor' unit='gvfs-afc-volume-monitor.service' requested by ':1.35' (uid=1000 pid=2116 co\n",
    "Mar,13,22:23:17,localhost,systemd[1898]:,Starting,Virtualfilesystem service - Apple File Conduit monitor... \n",
    "Mar,13,22:23:17,localhost,dbus-daemon[684]:,[system],\"Activatingvia systemd: service name='org.bluez' unit='dbus-org.bluez.service' requested by ':1.92' (uid=1000 pid=2124 comm=\"\"/usr/bin/pulseaudio --start --log-target=sys\"\n",
    "\"\"\""
   ]
  },
  {
   "cell_type": "code",
   "execution_count": 15,
   "metadata": {},
   "outputs": [
    {
     "name": "stdout",
     "output_type": "stream",
     "text": [
      "__main__\n"
     ]
    }
   ],
   "source": [
    "def main ():\n",
    "    \n",
    "    f = open(\"mod.csv\", \"w\")\n",
    "    data_read = data.split('\\n')\n",
    "\n",
    "    for line in data_read:\n",
    "        rep_str = line.replace(',',' ')\n",
    "        f.write(rep_str+'\\n')\n",
    "    f.close()    \n",
    "\n",
    "if __name__ == '__main__':\n",
    "    main()\n",
    "    \n",
    "print(__name__)"
   ]
  },
  {
   "cell_type": "code",
   "execution_count": 11,
   "metadata": {},
   "outputs": [
    {
     "name": "stdout",
     "output_type": "stream",
     "text": [
      " 00.ipynb   09.ipynb\t\t\t\"Ken's testing 123.ipynb\"\r\n",
      " 01.ipynb   10.ipynb\t\t\t Manish_Mypythonnotes.ipynb\r\n",
      " 02.ipynb   11.ipynb\t\t\t mod.csv\r\n",
      " 03.ipynb   12.ipynb\t\t\t Mypythonnotes.ipynb\r\n",
      " 04.ipynb  \"Andy's 2nd notebook.ipynb\"\t\"Prasath's Notebook.ipynb\"\r\n",
      " 05.ipynb  \"Andy's Notebook.ipynb\"\t\"Suhento's Notebook.ipynb\"\r\n",
      " 06.ipynb   AS_Notebook.ipynb\t\t Untitled.ipynb\r\n",
      " 07.ipynb  \"Dai's Workbook.ipynb\"\r\n",
      " 08.ipynb  \"Harry's Notebook.ipynb\"\r\n"
     ]
    }
   ],
   "source": [
    "!ls"
   ]
  },
  {
   "cell_type": "code",
   "execution_count": 16,
   "metadata": {},
   "outputs": [
    {
     "name": "stdout",
     "output_type": "stream",
     "text": [
      "Mar 13 22:23:16 localhost systemd[1898]: Starting Accessibilityservices bus... \r\n",
      "Mar 13 22:23:16 localhost dbus-daemon[1916]: [session uid=1000pid=1916] Successfully activated service 'org.a11y.Bus' \r\n",
      "Mar 13 22:23:16 localhost systemd[1898]: Started Accessibilityservices bus. \r\n",
      "Mar 13 22:23:16 localhost at-spi-bus-launcher[2087]: dbus-daemon[2092]: \"Activatingservice name='org.a11y.atspi.Registry' requested by ':1.0' (uid=1000 pid=1905 comm=\"\"mate-session \"\" label=\"\"unconfined_u:unconfined_r:unconfi\"\r\n",
      "Mar 13 22:23:16 localhost dbus-daemon[1916]: [session \"uid=1000pid=1916] Activating service name='ca.desrt.dconf' requested by ':1.28' (uid=1000 pid=1905 comm=\"\"mate-session \"\" label=\"\"unconfined_u:unconfined_r:unconfined_t:s\"\r\n",
      "Mar 13 22:23:16 localhost dbus-daemon[1916]: [session uid=1000pid=1916] Successfully activated service 'ca.desrt.dconf' \r\n",
      "Mar 13 22:23:16 localhost at-spi-bus-launcher[2087]: dbus-daemon[2092]: Successfullyactivated service 'org.a11y.atspi.Registry' \r\n",
      "Mar 13 22:23:16 localhost at-spi-bus-launcher[2087]: SpiRegistry daemonis running with well-known name - org.a11y.atspi.Registry \r\n",
      "Mar 13 22:23:16 localhost gnome-keyring-daemon[1895]: failed tounlock login keyring on startup \r\n",
      "Mar 13 22:23:17 localhost rtkit-daemon[676]: Successfully madethread 2124 of process 2124 (/usr/bin/pulseaudio) owned by '1000' high priority at nice level -11. \r\n",
      "Mar 13 22:23:17 localhost dbus-daemon[1916]: [session uid=1000pid=1916] Activating via systemd: service name='org.gtk.vfs.UDisks2VolumeMonitor' unit='gvfs-udisks2-volume-monitor.service' requested by ':1.35' (uid=1000 pid\r\n",
      "Mar 13 22:23:17 localhost systemd[1898]: Starting Virtualfilesystem service - disk device monitor... \r\n",
      "Mar 13 22:23:17 localhost pulseaudio[2124]: [pulseaudio] alsa-util.c:Disabling timer-based scheduling because running inside a VM. \r\n",
      "Mar 13 22:23:17 localhost pulseaudio[2124]: [pulseaudio] sink.c:Default and alternate sample rates are the same. \r\n",
      "Mar 13 22:23:17 localhost dbus-daemon[1916]: [session uid=1000pid=1916] Successfully activated service 'org.gtk.vfs.UDisks2VolumeMonitor' \r\n",
      "Mar 13 22:23:17 localhost systemd[1898]: Started Virtualfilesystem service - disk device monitor. \r\n",
      "Mar 13 22:23:17 localhost dbus-daemon[1916]: [session uid=1000pid=1916] Activating via systemd: service name='org.gtk.vfs.MTPVolumeMonitor' unit='gvfs-mtp-volume-monitor.service' requested by ':1.35' (uid=1000 pid=2116 co\r\n",
      "Mar 13 22:23:17 localhost rtkit-daemon[676]: Successfully madethread 2134 of process 2124 (/usr/bin/pulseaudio) owned by '1000' RT at priority 5. \r\n",
      "Mar 13 22:23:17 localhost pulseaudio[2124]: [pulseaudio] alsa-util.c:Disabling timer-based scheduling because running inside a VM. \r\n",
      "Mar 13 22:23:17 localhost systemd[1898]: Starting Virtualfilesystem service - Media Transfer Protocol monitor... \r\n",
      "Mar 13 22:23:17 localhost dbus-daemon[1916]: [session uid=1000pid=1916] Successfully activated service 'org.gtk.vfs.MTPVolumeMonitor' \r\n",
      "Mar 13 22:23:17 localhost systemd[1898]: Started Virtualfilesystem service - Media Transfer Protocol monitor. \r\n",
      "Mar 13 22:23:17 localhost dbus-daemon[1916]: [session uid=1000pid=1916] Activating via systemd: service name='org.gtk.vfs.GPhoto2VolumeMonitor' unit='gvfs-gphoto2-volume-monitor.service' requested by ':1.35' (uid=1000 pid\r\n",
      "Mar 13 22:23:17 localhost systemd[1898]: Starting Virtualfilesystem service - digital camera monitor... \r\n",
      "Mar 13 22:23:17 localhost rtkit-daemon[676]: Successfully madethread 2139 of process 2124 (/usr/bin/pulseaudio) owned by '1000' RT at priority 5. \r\n",
      "Mar 13 22:23:17 localhost dbus-daemon[1916]: [session uid=1000pid=1916] Successfully activated service 'org.gtk.vfs.GPhoto2VolumeMonitor' \r\n",
      "Mar 13 22:23:17 localhost systemd[1898]: Started Virtualfilesystem service - digital camera monitor. \r\n",
      "Mar 13 22:23:17 localhost dbus-daemon[1916]: [session uid=1000pid=1916] Activating via systemd: service name='org.gtk.vfs.AfcVolumeMonitor' unit='gvfs-afc-volume-monitor.service' requested by ':1.35' (uid=1000 pid=2116 co\r\n",
      "Mar 13 22:23:17 localhost systemd[1898]: Starting Virtualfilesystem service - Apple File Conduit monitor... \r\n",
      "Mar 13 22:23:17 localhost dbus-daemon[684]: [system] \"Activatingvia systemd: service name='org.bluez' unit='dbus-org.bluez.service' requested by ':1.92' (uid=1000 pid=2124 comm=\"\"/usr/bin/pulseaudio --start --log-target=sys\"\r\n",
      "\r\n"
     ]
    }
   ],
   "source": [
    "!cat mod.csv"
   ]
  },
  {
   "cell_type": "code",
   "execution_count": null,
   "metadata": {},
   "outputs": [],
   "source": []
  }
 ],
 "metadata": {
  "kernelspec": {
   "display_name": "Python 3",
   "language": "python",
   "name": "python3"
  },
  "language_info": {
   "codemirror_mode": {
    "name": "ipython",
    "version": 3
   },
   "file_extension": ".py",
   "mimetype": "text/x-python",
   "name": "python",
   "nbconvert_exporter": "python",
   "pygments_lexer": "ipython3",
   "version": "3.6.2"
  }
 },
 "nbformat": 4,
 "nbformat_minor": 2
}
