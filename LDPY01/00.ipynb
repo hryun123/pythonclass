{
 "cells": [
  {
   "cell_type": "markdown",
   "metadata": {},
   "source": [
    "# Python for Ops"
   ]
  },
  {
   "cell_type": "markdown",
   "metadata": {},
   "source": [
    "## Introduction\n",
    "\n",
    "Python is a modern, robust, high level programming language. It is very easy to pick up even if you are completely new to programming. \n",
    "\n",
    "Python, similar to other languages like matlab or R, is interpreted hence runs slowly compared to C++, Fortran or Java. However writing programs in Python is very quick. Python has a very large collection of libraries for everything from scientific computing to web services. It caters for object oriented and functional programming with module system that allows large and complex applications to be developed in Python. \n",
    "\n",
    "This course uses jupyter notebooks which mix Python code with documentation. The Python notebooks can be run on a webserver or stand-alone on a computer.\n"
   ]
  },
  {
   "cell_type": "markdown",
   "metadata": {},
   "source": [
    "## Contents\n",
    "\n",
    "This course is broken up into a number of notebooks (chapters).\n",
    "\n",
    "* [00](00.ipynb) Introduction\n",
    "* [01](01.ipynb) Basic data types and operations\n",
    "* [02](02.ipynb) String manipulation \n",
    "* [03](03.ipynb) Data structures: Lists and Tuples\n",
    "* [04](04.ipynb) Data structures (continued): dictionaries\n",
    "* [05](05.ipynb) Control statements: if, for, while, try statements\n",
    "* [06](06.ipynb) Functions\n",
    "* [07](07.ipynb) Classes and basic object oriented programming\n",
    "* [08](08.ipynb) Working with Files\n",
    "* [09](09.ipynb) Modules and Imports\n",
    "* [10](10.ipynb) Working with REST API's\n",
    "* [11](11.ipynb) The Subprocess module\n",
    "* [12](12.ipynb) Scripting Version Control and Deployment\n",
    "\n",
    "This is a tutorial style introduction to Python. A longer and more detailed tutorial style introduction to python is available from the python site at: https://docs.python.org/3/tutorial/\n"
   ]
  },
  {
   "cell_type": "markdown",
   "metadata": {},
   "source": [
    "## Installation\n",
    "\n",
    "\n",
    "Python runs on windows, linux, mac and other environments. There are many python distributions available. However the recommended way to install python under Microsoft Windows or Linux is to use the Anaconda distribution available at [https://www.continuum.io/downloads](https://www.continuum.io/downloads). Make sure to get the latest Python version (currently 3.6) rather than the soon to be deprecated Python 2.7 (to be retired in less than 2 years from now).\n",
    "\n",
    "To install Jypyter see: http://jupyter.org/"
   ]
  },
  {
   "cell_type": "markdown",
   "metadata": {},
   "source": [
    "## Usage"
   ]
  },
  {
   "cell_type": "code",
   "execution_count": 4,
   "metadata": {},
   "outputs": [
    {
     "name": "stdout",
     "output_type": "stream",
     "text": [
      "hello\n"
     ]
    }
   ],
   "source": [
    "print (\"hello\")"
   ]
  },
  {
   "cell_type": "markdown",
   "metadata": {},
   "source": [
    "Press `h` for help! We'll go thought some example usages up front. You can intersperse code and wiki markup in here. Create a new notebook in which to take notes during this course by clicking File -> New Notebook -> Python 3. Name it \"Course Notes\"."
   ]
  },
  {
   "cell_type": "markdown",
   "metadata": {},
   "source": [
    "## License and Attributions\n",
    "\n",
    "This work is licensed under the Creative Commons Attribution 3.0 Unported License. To view a copy of this license, visit http://creativecommons.org/licenses/by/3.0/\n",
    "\n",
    "These notebooks were modified from the original author at https://gitlab.erc.monash.edu.au/andrease/Python4Maths/tree/master"
   ]
  }
 ],
 "metadata": {
  "kernelspec": {
   "display_name": "Python 3",
   "language": "python",
   "name": "python3"
  },
  "language_info": {
   "codemirror_mode": {
    "name": "ipython",
    "version": 3
   },
   "file_extension": ".py",
   "mimetype": "text/x-python",
   "name": "python",
   "nbconvert_exporter": "python",
   "pygments_lexer": "ipython3",
   "version": "3.6.2"
  }
 },
 "nbformat": 4,
 "nbformat_minor": 1
}
