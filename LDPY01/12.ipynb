{
 "cells": [
  {
   "cell_type": "markdown",
   "metadata": {},
   "source": [
    "## Scripting Version Control and Deployment"
   ]
  },
  {
   "cell_type": "markdown",
   "metadata": {},
   "source": [
    "## Magic Numbers"
   ]
  },
  {
   "cell_type": "markdown",
   "metadata": {},
   "source": [
    "Magic numbers provide a way of identifying a file's type (Eg. gif, jpg, executable, etc). Alternative ways of determinining this include extension conventions (.gif, .jpg, .exe, .txt, etc)\n",
    "\n",
    "A magic number is a number embedded at or near the beginning of a file that indicates its file format (i.e., the type of file it is). It is also sometimes referred to as a file signature.\n",
    "\n",
    "use the linux \"file\" command to interrogate the magic number and reveal the file type:"
   ]
  },
  {
   "cell_type": "raw",
   "metadata": {},
   "source": [
    "$ file mb_installation_guide\n",
    "mb_installation_guide: PDF document, version 1.6\n",
    "$"
   ]
  },
  {
   "cell_type": "markdown",
   "metadata": {},
   "source": [
    "### The Shebang"
   ]
  },
  {
   "cell_type": "markdown",
   "metadata": {},
   "source": [
    "Executable script files in Linux (and Unix in general), ie. files that are have the executable mode bit set, begin with the #! character at the beginning of the file. These two characters are referred to as the \"shebang\" at the very beginning of the file. The next few bytes of the file contain the path of the interpreter executable that is responsible for parsing and executing the script, followed by a new-line character. Eg:"
   ]
  },
  {
   "cell_type": "raw",
   "metadata": {},
   "source": [
    "#!/bin/bash #(this is a BASH script)"
   ]
  },
  {
   "cell_type": "raw",
   "metadata": {},
   "source": [
    "#!/usr/bin/python #(this is a Python script)"
   ]
  },
  {
   "cell_type": "markdown",
   "metadata": {},
   "source": [
    "The `#!` is a simply a human readable magic number (the magic byte string being 0x23 0x21) that is identified by the Linux Loader (a program which loads the code and data of the executable object file into memory and then runs the program by jumping to the first instruction). It in turn loads the specified interpreter at byte 3 and passes the script as an argument to it. It is always possible to do this manually yourself by launching the interpreter with the script as an argument, eg"
   ]
  },
  {
   "cell_type": "raw",
   "metadata": {},
   "source": [
    "$ python foo.py\n",
    "Hello world!\n",
    "$ ./foo.py\n",
    "Hello world!\n",
    "$"
   ]
  },
  {
   "cell_type": "markdown",
   "metadata": {},
   "source": [
    "## Version Control with Git"
   ]
  },
  {
   "cell_type": "markdown",
   "metadata": {},
   "source": [
    "Git is an open source distributed version control system. It has a tiny footprint with lightning fast performance.\n",
    "\n",
    "Git uses files for storage. A commit is a file with the commit message, associated data (name, email, date/time, previous commit, etc) and with a link to a tree file. The tree file contains a list of objects or other trees. The object or blob is the actual content associated with the commit (the filename isn’t stored in the object, but in the tree). Files are stored with a filename of a SHA-1 hash of the object."
   ]
  },
  {
   "cell_type": "markdown",
   "metadata": {},
   "source": [
    "#### Create a new repository:"
   ]
  },
  {
   "cell_type": "raw",
   "metadata": {},
   "source": [
    "git init"
   ]
  },
  {
   "cell_type": "markdown",
   "metadata": {},
   "source": [
    "#### Checkout a repository:"
   ]
  },
  {
   "cell_type": "raw",
   "metadata": {},
   "source": [
    "git clone /path/to/repository"
   ]
  },
  {
   "cell_type": "markdown",
   "metadata": {},
   "source": [
    "#### Add and commit"
   ]
  },
  {
   "cell_type": "markdown",
   "metadata": {},
   "source": [
    "You can propose changes (add it to the Index) using"
   ]
  },
  {
   "cell_type": "raw",
   "metadata": {},
   "source": [
    "git add <filename>\n",
    "# or\n",
    "git add ."
   ]
  },
  {
   "cell_type": "markdown",
   "metadata": {},
   "source": [
    "This is the first step in the basic git workflow. To actually commit these changes use"
   ]
  },
  {
   "cell_type": "raw",
   "metadata": {},
   "source": [
    "git commit -m \"Commit message\""
   ]
  },
  {
   "cell_type": "markdown",
   "metadata": {},
   "source": [
    "Now the file is committed to the HEAD, but not in your remote repository yet."
   ]
  },
  {
   "cell_type": "markdown",
   "metadata": {},
   "source": [
    "#### Pushing Changes to the Remote Repository (eg. to Github)"
   ]
  },
  {
   "cell_type": "markdown",
   "metadata": {},
   "source": [
    "Your changes are now in the HEAD of your local working copy. To send those changes to your remote repository, execute "
   ]
  },
  {
   "cell_type": "raw",
   "metadata": {},
   "source": [
    "git push origin master"
   ]
  },
  {
   "cell_type": "markdown",
   "metadata": {},
   "source": [
    "Change master to whatever branch you want to push your changes to (master is default).\n",
    "\n",
    "If you have not cloned an existing repository and want to connect your repository to a remote server, you need to add it with"
   ]
  },
  {
   "cell_type": "raw",
   "metadata": {},
   "source": [
    "git remote add origin <server>"
   ]
  },
  {
   "cell_type": "markdown",
   "metadata": {},
   "source": [
    "Now you are able to push your changes to the selected remote server\n"
   ]
  },
  {
   "cell_type": "markdown",
   "metadata": {},
   "source": [
    "#### Reviewing the Commit Log"
   ]
  },
  {
   "cell_type": "markdown",
   "metadata": {},
   "source": [
    "Now you are able to push your changes to the selected remote server\n"
   ]
  },
  {
   "cell_type": "raw",
   "metadata": {},
   "source": [
    "git log"
   ]
  },
  {
   "cell_type": "markdown",
   "metadata": {},
   "source": [
    "You can add a lot of parameters to make the log look like what you want."
   ]
  },
  {
   "cell_type": "raw",
   "metadata": {},
   "source": [
    "#To see only the commits of a certain author:\n",
    "git log --author=bob\n",
    "\n",
    "#To see a very compressed log where each commit is one line:\n",
    "git log --pretty=oneline\n",
    "\n",
    "#Or maybe you want to see an ASCII art tree of all the branches, decorated with the names of tags and branches: \n",
    "git log --graph --oneline --decorate --all\n",
    "\n",
    "#See only which files have changed: \n",
    "git log --name-status\n",
    "\n",
    "#These are just a few of the possible parameters you can use. For more, see git log --help"
   ]
  },
  {
   "cell_type": "markdown",
   "metadata": {},
   "source": [
    "## Coding style and structure, PEP-8, text editors and IDE's"
   ]
  },
  {
   "cell_type": "markdown",
   "metadata": {},
   "source": [
    "PEP-8 gives coding conventions for the Python code comprising the standard library in the main Python distribution. See [https://www.python.org/dev/peps/pep-0008/]"
   ]
  },
  {
   "cell_type": "markdown",
   "metadata": {},
   "source": [
    "### Integrated Development Environments and Editors"
   ]
  },
  {
   "cell_type": "markdown",
   "metadata": {},
   "source": [
    "- Pycharm: https://www.jetbrains.com/pycharm/\n",
    "- ViM\n",
    "- Notepad++\n",
    "- Whatever you're comfortable with"
   ]
  },
  {
   "cell_type": "markdown",
   "metadata": {},
   "source": [
    "## Python Pip"
   ]
  },
  {
   "cell_type": "markdown",
   "metadata": {},
   "source": [
    "The standard packaging tools are all designed to be used from the command line.\n",
    "\n",
    "The following command will install the latest version of a module and its dependencies from the Python Packaging Index:"
   ]
  },
  {
   "cell_type": "raw",
   "metadata": {},
   "source": [
    "python -m pip install SomePackage\n",
    "\n",
    "#or\n",
    "\n",
    "pip3 install SomePachage\n",
    "\n",
    "# particular versions\n",
    "python -m pip install SomePackage==1.0.4    # specific version\n",
    "python -m pip install \"SomePackage>=1.0.4\"  # minimum version\n",
    "\n",
    "# listing all installed packages:\n",
    "pip3 freeze\n",
    "\n",
    "# removing a package\n",
    "pip3 uninstall SomePackage\n",
    "\n",
    "# list files installed by a package\n",
    "pip3 show -f SomePackage"
   ]
  },
  {
   "cell_type": "markdown",
   "metadata": {},
   "source": [
    "## Writing Command Line Tools"
   ]
  },
  {
   "cell_type": "markdown",
   "metadata": {},
   "source": [
    "### Argparse Module"
   ]
  },
  {
   "cell_type": "markdown",
   "metadata": {},
   "source": [
    "The argparse module makes it easy to write user-friendly command-line interfaces. The program defines what arguments it requires, and argparse will figure out how to parse those out of sys.argv. The argparse module also automatically generates help and usage messages and issues errors when users give the program invalid arguments."
   ]
  },
  {
   "cell_type": "raw",
   "metadata": {},
   "source": [
    "#!/usr/bin/env python\n",
    "\n",
    "import argparse\n",
    "\n",
    "parser = argparse.ArgumentParser(description=\"calculate 'base' to the power of 'exp'\")\n",
    "group = parser.add_mutually_exclusive_group()\n",
    "\n",
    "# Positional Args\n",
    "parser.add_argument(\"base\", type=int, help=\"the base\")\n",
    "parser.add_argument(\"exp\", type=int, help=\"the exponent\")\n",
    "\n",
    "# Flaged args\n",
    "parser.add_argument(\"-p\",\"--printstring\", metavar='<string_to_print>',\n",
    "                    help=\"This prints a string for no particular reason\")\n",
    "\n",
    "group.add_argument(\"-v\", \"--verbose\", \"--verbose-uber\", action=\"store_true\", help=\"increase verbosity\")\n",
    "group.add_argument(\"-q\", \"--quiet\", action=\"store_true\")\n",
    "\n",
    "args = parser.parse_args()\n",
    "\n",
    "ans = args.base**args.exp\n",
    "\n",
    "print 'print flag (-p):', args.printstring\n",
    "\n",
    "if args.quiet:\n",
    "    print ans\n",
    "elif args.verbose:\n",
    "    print \"Running '{}'\".format(__file__)\n",
    "    print \"{} raised to the power {} equals {} \".format(args.base, args.exp, ans) \n",
    "else:\n",
    "    print \"{}^{} == {}\".format(args.base, args.exp, ans)\n",
    "\n",
    "print dir(args)\n"
   ]
  },
  {
   "cell_type": "markdown",
   "metadata": {},
   "source": [
    "For full documentation, visit [https://docs.python.org/3/library/argparse.html]"
   ]
  },
  {
   "cell_type": "markdown",
   "metadata": {},
   "source": [
    "## Deployment"
   ]
  },
  {
   "cell_type": "markdown",
   "metadata": {},
   "source": [
    "### VirtualEnv"
   ]
  },
  {
   "cell_type": "markdown",
   "metadata": {},
   "source": [
    "virtualenv is a tool to create isolated Python environments.\n",
    "\n",
    "The basic problem being addressed is one of dependencies and versions, and indirectly permissions. Imagine you have an application that needs version 1 of LibFoo, but another application requires version 2. How can you use both these applications? If you install everything into /usr/lib/python2.7/site-packages (or whatever your platform’s standard location is), it’s easy to end up in a situation where you unintentionally upgrade an application that shouldn’t be upgraded.\n",
    "\n",
    "Or more generally, what if you want to install an application and leave it be? If an application works, any change in its libraries or the versions of those libraries can break the application.\n",
    "\n",
    "Also, what if you can’t install packages into the global site-packages directory? For instance, on a shared host.\n",
    "\n",
    "In all these cases, virtualenv can help you. It creates an environment that has its own installation directories, that doesn’t share libraries with other virtualenv environments (and optionally doesn’t access the globally installed libraries either)."
   ]
  },
  {
   "cell_type": "markdown",
   "metadata": {},
   "source": [
    "Virtualenv has one basic command:"
   ]
  },
  {
   "cell_type": "raw",
   "metadata": {},
   "source": [
    "virtualenv ENV"
   ]
  },
  {
   "cell_type": "markdown",
   "metadata": {},
   "source": [
    "Where ENV is a directory to place the new virtual environment. It has a number of usual effects (modifiable by many Options):\n",
    "\n",
    "- ENV/lib/ and ENV/include/ are created, containing supporting library files for a new virtualenv python. Packages installed in this environment will live under ENV/lib/pythonX.X/site-packages/.\n",
    "- ENV/bin is created, where executables live - noticeably a new python. Thus running a script with #! /path/to/ENV/bin/python would run that script under this virtualenv’s python.\n",
    "- The crucial packages pip and setuptools are installed, which allow other packages to be easily installed to the environment. This associated pip can be run from ENV/bin/pip.\n",
    "\n",
    "The python in your new virtualenv is effectively isolated from the python that was used to create it."
   ]
  },
  {
   "cell_type": "markdown",
   "metadata": {},
   "source": [
    "In a newly created virtualenv there will also be a activate shell script. For Windows systems, activation scripts are provided for the Command Prompt and Powershell.\n",
    "\n",
    "On Posix systems, this resides in /ENV/bin/, so you can run:"
   ]
  },
  {
   "cell_type": "raw",
   "metadata": {},
   "source": [
    "source bin/activate"
   ]
  },
  {
   "cell_type": "markdown",
   "metadata": {},
   "source": [
    "For some shells (e.g. the original Bourne Shell) you may need to use the . command, when source does not exist. There are also separate activate files for some other shells, like csh and fish. bin/activate should work for bash/zsh/dash.\n",
    "\n",
    "This will change your $PATH so its first entry is the virtualenv’s bin/ directory. (You have to use source because it changes your shell environment in-place.) This is all it does; it’s purely a convenience. If you directly run a script or the python interpreter from the virtualenv’s bin/ directory (e.g. path/to/ENV/bin/pip or /path/to/ENV/bin/python-script.py) there’s no need for activation.\n",
    "\n",
    "The activate script will also modify your shell prompt to indicate which environment is currently active. To disable this behaviour, see VIRTUAL_ENV_DISABLE_PROMPT.\n",
    "\n",
    "When activated, all pip commands will only affect the Python installation within the VirtualEnv. the `pip freeze` command will list all packages installed within that virtual env. It is a good convention to store the list in a text file in your /ENV directory as follows:"
   ]
  },
  {
   "cell_type": "raw",
   "metadata": {},
   "source": [
    "pip freeze > requirements.txt"
   ]
  },
  {
   "cell_type": "markdown",
   "metadata": {},
   "source": [
    "To later install these requirements on a fresh VirtualEnv, just copy your code to it, activate it and run:"
   ]
  },
  {
   "cell_type": "raw",
   "metadata": {},
   "source": [
    "pip install -r requirements.txt --upgrade"
   ]
  },
  {
   "cell_type": "markdown",
   "metadata": {},
   "source": [
    "To undo these changes to your path (and prompt), just run:"
   ]
  },
  {
   "cell_type": "raw",
   "metadata": {},
   "source": [
    "deactivate"
   ]
  },
  {
   "cell_type": "markdown",
   "metadata": {},
   "source": [
    "You can compress and copy the entire /ENV directory and copy it to new systems to deploy your code (eg. under /opt/).\n",
    "\n",
    "For more detail, see https://virtualenv.pypa.io/en/stable/"
   ]
  },
  {
   "cell_type": "markdown",
   "metadata": {},
   "source": [
    "### Conda"
   ]
  },
  {
   "cell_type": "markdown",
   "metadata": {},
   "source": [
    "Conda is a more modern alternative to VirtualEnv with similar functionality - see https://conda.io/docs/user-guide/overview.html"
   ]
  },
  {
   "cell_type": "markdown",
   "metadata": {},
   "source": [
    "## Scheduling your Python Scripts"
   ]
  },
  {
   "cell_type": "markdown",
   "metadata": {},
   "source": [
    "If you design your script to be short-lived and automatically restarted (eg for batch runs, periodic reporting, etc), you can have the Cron service in Linux invoke it periodically.\n",
    "\n",
    "The best documentation source for crontabs can be found by typing \"man 5 crontab\" on a Linux host.\n",
    "\n",
    "The main configuration file for cron, /etc/crontab, contains the following lines:"
   ]
  },
  {
   "cell_type": "raw",
   "metadata": {},
   "source": [
    "SHELL=/bin/bash \n",
    "PATH=/sbin:/bin:/usr/sbin:/usr/bin \n",
    "MAILTO=root HOME=/  \n",
    "# run-parts \n",
    "01 * * * * root run-parts /etc/cron.hourly \n",
    "02 4 * * * root run-parts /etc/cron.daily \n",
    "22 4 * * 0 root run-parts /etc/cron.weekly \n",
    "42 4 1 * * root run-parts /etc/cron.monthly"
   ]
  },
  {
   "cell_type": "markdown",
   "metadata": {},
   "source": [
    "he first four lines are variables used to configure the environment in which the cron tasks are run. The SHELL variable tells the system which shell environment to use (in this example the bash shell), while the PATH variable defines the path used to execute commands. The output of the cron tasks are emailed to the username defined with the MAILTO variable. If the MAILTO variable is defined as an empty string (MAILTO=\"\"), email is not sent. The HOME variable can be used to set the home directory to use when executing commands or scripts.\n",
    "\n",
    "Each line in the /etc/crontab file represents a task and has the following format:\n",
    "- minute — any integer from 0 to 59\n",
    "- hour — any integer from 0 to 23\n",
    "- day — any integer from 1 to 31 (must be a valid day if a month is specified)\n",
    "- month — any integer from 1 to 12 (or the short name of the month such as jan or feb)\n",
    "- dayofweek — any integer from 0 to 7, where 0 or 7 represents Sunday (or the short name of the week such as sun or mon)\n",
    "- command — the command to execute (the command can either be a command such as ls /proc >> /tmp/proc or the command to execute a custom script)\n",
    "\n",
    "For any of the above values, an asterisk (*) can be used to specify all valid values. For example, an asterisk for the month value means execute the command every month within the constraints of the other values.\n",
    "\n",
    "A hyphen (-) between integers specifies a range of integers. For example, 1-4 means the integers 1, 2, 3, and 4.\n",
    "\n",
    "A list of values separated by commas (,) specifies a list. For example, 3, 4, 6, 8 indicates those four specific integers.\n",
    "\n",
    "The forward slash (/) can be used to specify step values. The value of an integer can be skipped within a range by following the range with /<integer>. For example, 0-59/2 can be used to define every other minute in the minute field. Step values can also be used with an asterisk. For instance, the value */3 can be used in the month field to run the task every third month.\n",
    "\n",
    "Any lines that begin with a hash mark (#) are comments and are not processed.\n",
    "\n",
    "As shown in the /etc/crontab file, the run-parts script executes the scripts in the /etc/cron.hourly/, /etc/cron.daily/, /etc/cron.weekly/, and /etc/cron.monthly/ directories on an hourly, daily, weekly, or monthly basis respectively. The files in these directories should be shell scripts.\n",
    "\n",
    "If a cron task is required to be executed on a schedule other than hourly, daily, weekly, or monthly, it can be added to the /etc/cron.d/ directory. All files in this directory use the same syntax as /etc/crontab."
   ]
  },
  {
   "cell_type": "raw",
   "metadata": {},
   "source": [
    "# record the memory usage of the system every monday  \n",
    "# at 3:30AM in the file /tmp/meminfo \n",
    "30 3 * * mon cat /proc/meminfo >> /tmp/meminfo \n",
    "# run custom script the first day of every month at 4:10AM \n",
    "10 4 1 * * /root/scripts/backup.sh"
   ]
  },
  {
   "cell_type": "markdown",
   "metadata": {},
   "source": [
    "Users other than root can configure cron tasks by using the crontab utility. All user-defined crontabs are stored in the /var/spool/cron/ directory and are executed using the usernames of the users that created them. To create a crontab as a user, login as that user and type the command crontab -e to edit the user's crontab using the editor specified by the VISUAL or EDITOR environment variable. The file uses the same format as /etc/crontab. When the changes to the crontab are saved, the crontab is stored according to username and written to the file /var/spool/cron/username.\n",
    "\n",
    "The cron daemon checks the /etc/crontab file, the /etc/cron.d/ directory, and the /var/spool/cron/ directory every minute for any changes. If any changes are found, they are loaded into memory. Thus, the daemon does not need to be restarted if a crontab file is changed."
   ]
  },
  {
   "cell_type": "markdown",
   "metadata": {},
   "source": [
    "## Daemonised (Long Running) Python Scripts"
   ]
  },
  {
   "cell_type": "markdown",
   "metadata": {},
   "source": [
    "### Systemd"
   ]
  },
  {
   "cell_type": "markdown",
   "metadata": {},
   "source": [
    "systemd is an init system used in Linux distributions to bootstrap the user space and manage all processes subsequently, instead of the UNIX System V or Berkeley Software Distribution (BSD) init systems.\n",
    "\n",
    "Like the init daemon, systemd is a daemon that manages other daemons, which, including systemd itself, are background processes. systemd is the first daemon to start during booting and the last daemon to terminate during shutdown. The systemd daemon serves as the root of the user space's process tree; the first process (pid 1) has a special role on Unix systems, as it receives a SIGCHLD signal when a daemon process (which has detached from its parent) terminates. Therefore, the first process is particularly well suited for the purpose of monitoring daemons; systemd attempts to improve in that particular area over the traditional approach, which would usually not restart daemons automatically but only launch them once without further monitoring.\n",
    "\n",
    "systemd executes elements of its startup sequence in parallel, which is faster than the traditional startup sequence's sequential approach. For inter-process communication (IPC), systemd makes Unix domain sockets and D-Bus available to the running daemons. The state of systemd itself can also be preserved in a snapshot for future recall."
   ]
  },
  {
   "cell_type": "markdown",
   "metadata": {},
   "source": [
    "#### Managing processes"
   ]
  },
  {
   "cell_type": "markdown",
   "metadata": {},
   "source": [
    "The basic object that systemd manages and acts upon is a \"unit\". Units can be of many types, but the most common type is a \"service\" (indicated by a unit file ending in .service). To manage services on a systemd enabled server, our main tool is the systemctl command.\n",
    "\n",
    "All of the normal init system commands have equivalent actions with the systemctl command. We will use the nginx.service unit to demonstrate (you'll have to install Nginx with your package manager to get this service file)."
   ]
  },
  {
   "cell_type": "raw",
   "metadata": {},
   "source": [
    "#For instance, we can start the service by typing:\n",
    "sudo systemctl start nginx.service\n",
    "\n",
    "#We can stop it again by typing:\n",
    "sudo systemctl stop nginx.service\n",
    "\n",
    "#To restart the service, we can type:\n",
    "sudo systemctl restart nginx.service\n",
    "\n",
    "#To attempt to reload the service without interrupting normal functionality, we can type:\n",
    "sudo systemctl reload nginx.service"
   ]
  },
  {
   "cell_type": "markdown",
   "metadata": {},
   "source": [
    "#### Enabling or Disabling Units"
   ]
  },
  {
   "cell_type": "markdown",
   "metadata": {},
   "source": [
    "By default, most systemd unit files are not started automatically at boot. To configure this functionality, you need to \"enable\" to unit. This hooks it up to a certain boot \"target\", causing it to be triggered when that target is started."
   ]
  },
  {
   "cell_type": "raw",
   "metadata": {},
   "source": [
    "#To enable a service to start automatically at boot, type:\n",
    "sudo systemctl enable nginx.service\n",
    "\n",
    "#If you wish to disable the service again, type:\n",
    "sudo systemctl disable nginx.service"
   ]
  },
  {
   "cell_type": "markdown",
   "metadata": {},
   "source": [
    "#### Getting an Overview of the System State"
   ]
  },
  {
   "cell_type": "markdown",
   "metadata": {},
   "source": [
    "There is a great deal of information that we can pull from a systemd server to get an overview of the system state."
   ]
  },
  {
   "cell_type": "raw",
   "metadata": {},
   "source": [
    "# For instance, to get all of the unit files that systemd has listed as \"active\", type (you can actually leave off the list-units as this is the d efault systemctl behavior):\n",
    "systemctl list-units\n",
    "\n",
    "#To list all of the units that systemd has loaded or attempted to load into memory, including those that are not currently active, add the --all switch:\n",
    "systemctl list-units --all\n",
    "\n",
    "#To list all of the units installed on the system, including those that systemd has not tried to load into memory, type:\n",
    "systemctl list-unit-files"
   ]
  },
  {
   "cell_type": "markdown",
   "metadata": {},
   "source": [
    "#### Querying Unit States and Logs"
   ]
  },
  {
   "cell_type": "raw",
   "metadata": {},
   "source": [
    "#To see an overview of the current state of a unit, you can use the status option with the systemctlcommand. This will show you whether the unit is active, information about the process, and the latest journal entries:\n",
    "\n",
    "systemctl status nginx.service\n",
    "\n",
    "#To see all of the journal entries for the unit in question, give the -u option with the unit name to the journalctl command:\n",
    "journalctl -u nginx.service\n",
    "\n",
    "#As always, you can limit the entries to the current boot by adding the -b flag:\n",
    "journalctl -b -u nginx.service"
   ]
  },
  {
   "cell_type": "markdown",
   "metadata": {},
   "source": [
    "#### Stopping or Rebooting the Server"
   ]
  },
  {
   "cell_type": "raw",
   "metadata": {},
   "source": [
    "#For some of the major states that a system can transition to, shortcuts are available. For instance, to power off your server, you can type:\n",
    "sudo systemctl poweroff\n",
    "\n",
    "If you wish to reboot the system instead, that can be accomplished by typing:\n",
    "#sudo systemctl reboot\n",
    "\n",
    "You can boot into rescue mode by typing:\n",
    "#sudo systemctl rescue\n",
    "\n",
    "#Note that most operating systems include traditional aliases to these operations so that you can simply type sudo poweroff or sudo reboot without the systemctl. However, this is not guaranteed to be set up on all systems."
   ]
  },
  {
   "cell_type": "markdown",
   "metadata": {},
   "source": [
    "#### Creating unit files and building new systemd services"
   ]
  },
  {
   "cell_type": "markdown",
   "metadata": {},
   "source": [
    "Create a .service file in the systemd folder. For example /etc/systemd/system/my_daemon.service. Here is an example .service file."
   ]
  },
  {
   "cell_type": "raw",
   "metadata": {},
   "source": [
    "[Unit]\n",
    "Description=Web File Share Service\n",
    "After=network.target\n",
    " \n",
    "[Service]\n",
    "Type=simple\n",
    "User=nobody\n",
    "WorkingDirectory=/tmp\n",
    "ExecStart=/usr/bin/python3 -m http.server\n",
    "Restart=on-abort\n",
    " \n",
    "[Install]\n",
    "WantedBy=multi-user.target"
   ]
  },
  {
   "cell_type": "markdown",
   "metadata": {},
   "source": [
    "Reload systemd to read your new unit file"
   ]
  },
  {
   "cell_type": "raw",
   "metadata": {},
   "source": [
    "systemctl daemon-reload"
   ]
  },
  {
   "cell_type": "markdown",
   "metadata": {},
   "source": [
    "Start your service and make it persist across reboots"
   ]
  },
  {
   "cell_type": "raw",
   "metadata": {},
   "source": [
    "systemctl enable my_daemon"
   ]
  },
  {
   "cell_type": "markdown",
   "metadata": {},
   "source": [
    "Check your service is running by visiting http://localhost:8000"
   ]
  },
  {
   "cell_type": "markdown",
   "metadata": {},
   "source": [
    "There are more options you can specify in unit files. For example, in addition to ExecStart you can specify ExecStop and ExecReload to control what happens when stopping and restarting. Those are not required though. If you omit the ExecStop option, it is smart enough to know it should kill the process. If you need a more graceful shutdown though, specify that with ExecStop. To see some more options, look at man systemd.service in your distribution. [Freedesktop.org's man systemd.service](https://www.freedesktop.org/software/systemd/man/systemd.service.html)."
   ]
  },
  {
   "cell_type": "code",
   "execution_count": null,
   "metadata": {},
   "outputs": [],
   "source": []
  }
 ],
 "metadata": {
  "kernelspec": {
   "display_name": "Python 3",
   "language": "python",
   "name": "python3"
  },
  "language_info": {
   "codemirror_mode": {
    "name": "ipython",
    "version": 3
   },
   "file_extension": ".py",
   "mimetype": "text/x-python",
   "name": "python",
   "nbconvert_exporter": "python",
   "pygments_lexer": "ipython3",
   "version": "3.6.2"
  }
 },
 "nbformat": 4,
 "nbformat_minor": 2
}
