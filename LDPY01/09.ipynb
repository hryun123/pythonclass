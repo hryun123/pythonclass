{
 "cells": [
  {
   "cell_type": "markdown",
   "metadata": {},
   "source": [
    "## Modules and Imports"
   ]
  },
  {
   "cell_type": "markdown",
   "metadata": {},
   "source": [
    "To use any package in your code, you must first make it accessible. You have to import it. You can't use anything in Python before it is defined. Some things are built in, for example the basic types (like int, float, etc) can be used whenever you want. But most things you will want to do will need a little more than that. Try typing the following into a Python console:"
   ]
  },
  {
   "cell_type": "code",
   "execution_count": 1,
   "metadata": {},
   "outputs": [
    {
     "ename": "NameError",
     "evalue": "name 'datetime' is not defined",
     "output_type": "error",
     "traceback": [
      "\u001b[0;31m---------------------------------------------------------------------------\u001b[0m",
      "\u001b[0;31mNameError\u001b[0m                                 Traceback (most recent call last)",
      "\u001b[0;32m<ipython-input-1-8a907da7ac93>\u001b[0m in \u001b[0;36m<module>\u001b[0;34m()\u001b[0m\n\u001b[0;32m----> 1\u001b[0;31m \u001b[0moTime\u001b[0m \u001b[0;34m=\u001b[0m \u001b[0mdatetime\u001b[0m\u001b[0;34m.\u001b[0m\u001b[0mdatetime\u001b[0m\u001b[0;34m.\u001b[0m\u001b[0mnow\u001b[0m\u001b[0;34m(\u001b[0m\u001b[0;34m)\u001b[0m\u001b[0;34m\u001b[0m\u001b[0m\n\u001b[0m",
      "\u001b[0;31mNameError\u001b[0m: name 'datetime' is not defined"
     ]
    }
   ],
   "source": [
    "oTime = datetime.datetime.now()"
   ]
  },
  {
   "cell_type": "markdown",
   "metadata": {},
   "source": [
    "You'll get a NameError. Apparently Python doesn't know what datetime means - datetime is not defined. You'll get a similar result for doing this:"
   ]
  },
  {
   "cell_type": "code",
   "execution_count": 3,
   "metadata": {},
   "outputs": [
    {
     "ename": "NameError",
     "evalue": "name 'my_undefined_variable' is not defined",
     "output_type": "error",
     "traceback": [
      "\u001b[0;31m---------------------------------------------------------------------------\u001b[0m",
      "\u001b[0;31mNameError\u001b[0m                                 Traceback (most recent call last)",
      "\u001b[0;32m<ipython-input-3-8a64f35acd90>\u001b[0m in \u001b[0;36m<module>\u001b[0;34m()\u001b[0m\n\u001b[0;32m----> 1\u001b[0;31m \u001b[0mprint\u001b[0m\u001b[0;34m(\u001b[0m\u001b[0mmy_undefined_variable\u001b[0m\u001b[0;34m)\u001b[0m\u001b[0;34m\u001b[0m\u001b[0m\n\u001b[0m",
      "\u001b[0;31mNameError\u001b[0m: name 'my_undefined_variable' is not defined"
     ]
    }
   ],
   "source": [
    "print(my_undefined_variable)"
   ]
  },
  {
   "cell_type": "markdown",
   "metadata": {},
   "source": [
    "For datetime (or anything really) to be considered defined, it has to accessible from the current scope. For this to be true it has to satisfy one of the following conditions:\n",
    "\n",
    "- it is a part of the defaultPython environment. Like int, list, __name__ and object. Try typing those in an interpreter and see what happens\n",
    "- it has been defined in the current program flow (as in you wrote a def or a class or just a plain 'ol assignment statement to make it mean something. This statement is a bit of a simplification and I'll expand on it pretty soon\n",
    "- it exists as a separate package and you imported that package by executing a suitable import statement.\n",
    "\n",
    "Try this out:"
   ]
  },
  {
   "cell_type": "code",
   "execution_count": 6,
   "metadata": {},
   "outputs": [
    {
     "name": "stdout",
     "output_type": "stream",
     "text": [
      "2018-03-18 00:15:52.875576\n"
     ]
    }
   ],
   "source": [
    "import datetime\n",
    "\n",
    "oTime = datetime.datetime.now()\n",
    "print(oTime)"
   ]
  },
  {
   "cell_type": "markdown",
   "metadata": {},
   "source": [
    "For details about what is importable in stock Python 3, see:\n",
    "https://docs.python.org/3/library/index.html"
   ]
  },
  {
   "cell_type": "markdown",
   "metadata": {},
   "source": [
    "### Modules"
   ]
  },
  {
   "cell_type": "markdown",
   "metadata": {},
   "source": [
    "A Python module is just a Python script ending in .py with functions and/or classes defined within it. If the module resides in the same directory, you can import it with:\n",
    "\n",
    "***import my_script***\n",
    "\n",
    "Note you omit the .py extension within it. Try and create a file with a simple function defininition and import it here."
   ]
  },
  {
   "cell_type": "markdown",
   "metadata": {},
   "source": [
    "#### A note about modules"
   ]
  },
  {
   "cell_type": "markdown",
   "metadata": {},
   "source": [
    "Any code that is not within a function or class definition will get executed. Consider:"
   ]
  },
  {
   "cell_type": "raw",
   "metadata": {},
   "source": [
    "#!/usr/bin/env python3\n",
    "# My example python script, saved to largest.py\n",
    "\n",
    "import sys\n",
    "\n",
    "def get_largest(x, y):\n",
    "    if x > y:\n",
    "        return x\n",
    "    if y > x:\n",
    "        return y\n",
    "    else:\n",
    "        return None\n",
    "\n",
    "cli_args = sys.argv[1:]\n",
    "print(get_largest(*cli_args))"
   ]
  },
  {
   "cell_type": "markdown",
   "metadata": {},
   "source": [
    "In another script in the same directory, import this script as follows:"
   ]
  },
  {
   "cell_type": "raw",
   "metadata": {},
   "source": [
    "# my other script\n",
    "\n",
    "import largest"
   ]
  },
  {
   "cell_type": "markdown",
   "metadata": {},
   "source": [
    "you will see the following error:"
   ]
  },
  {
   "cell_type": "raw",
   "metadata": {},
   "source": [
    "Traceback (most recent call last):\n",
    "  File \"tt.py\", line 1, in <module>\n",
    "    import t\n",
    "  File \"/tmp/t.py\", line 13, in <module>\n",
    "    print(get_largest(*cli_args))\n",
    "TypeError: get_largest() missing 2 required positional arguments: 'x' and 'y'"
   ]
  },
  {
   "cell_type": "markdown",
   "metadata": {},
   "source": [
    "What happened? When you imported largest, not only did it import the get_largest() function, but it also ran the code below it. To prevent this from happening, use Python's built-in `__name__` variable. If it is equal to the string `\"__main__\"` then this script was executed directly. If not, it was imported. As such, you can conditionally run the last two lines only when the script is run directly. Change largest.py to contain the below code and try your test again:"
   ]
  },
  {
   "cell_type": "raw",
   "metadata": {},
   "source": [
    "#!/usr/bin/env python3\n",
    "# My example python script, saved to largest.py\n",
    "\n",
    "import sys\n",
    "\n",
    "def get_largest(x, y):\n",
    "    if x > y:\n",
    "        return x\n",
    "    if y > x:\n",
    "        return y\n",
    "    else:\n",
    "        return None\n",
    "\n",
    "if __name__ == \"__main__\":\n",
    "    cli_args = sys.argv[1:]\n",
    "    print(get_largest(*cli_args))"
   ]
  },
  {
   "cell_type": "markdown",
   "metadata": {},
   "source": [
    "### Packages"
   ]
  },
  {
   "cell_type": "markdown",
   "metadata": {},
   "source": [
    "A package is just a directory tree with some Python files in it. Nothing magical. If you want to tell Python that a certain directory is a package then create a file called __init__.py and just stick it in there. A package can contain other packages but to be useful it must contain modules somewhere in it's hierarchy. As stated, a module is just a script that contains a bunch of definitions and declarations (you define classes and functions, and declare variables). The whole point of this system is to be able to organise code in such a way as to make it easy to leverage existing code in new projects without excessive use of copy-paste.\n",
    "\n",
    "Consider this directory structure:"
   ]
  },
  {
   "cell_type": "raw",
   "metadata": {},
   "source": [
    " working_dir\\\n",
    "             my_pkg\\\n",
    "                 __init__.py\n",
    "                 my_funcs.py"
   ]
  },
  {
   "cell_type": "markdown",
   "metadata": {},
   "source": [
    "From another script within working dir, when you do:"
   ]
  },
  {
   "cell_type": "raw",
   "metadata": {},
   "source": [
    "import my_pkg"
   ]
  },
  {
   "cell_type": "markdown",
   "metadata": {},
   "source": [
    "you will then be able to access the defined objects within my_funcs.py as follows:"
   ]
  },
  {
   "cell_type": "raw",
   "metadata": {},
   "source": [
    "import my_pkg\n",
    "\n",
    "result = my_pkg.my_funcs.some_function()"
   ]
  }
 ],
 "metadata": {
  "kernelspec": {
   "display_name": "Python 3",
   "language": "python",
   "name": "python3"
  },
  "language_info": {
   "codemirror_mode": {
    "name": "ipython",
    "version": 3
   },
   "file_extension": ".py",
   "mimetype": "text/x-python",
   "name": "python",
   "nbconvert_exporter": "python",
   "pygments_lexer": "ipython3",
   "version": "3.6.2"
  }
 },
 "nbformat": 4,
 "nbformat_minor": 2
}
