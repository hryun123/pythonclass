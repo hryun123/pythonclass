{
 "cells": [
  {
   "cell_type": "code",
   "execution_count": null,
   "metadata": {},
   "outputs": [],
   "source": []
  },
  {
   "cell_type": "markdown",
   "metadata": {},
   "source": [
    "## The Subprocess Module"
   ]
  },
  {
   "cell_type": "markdown",
   "metadata": {},
   "source": [
    "The subprocess module allows you to spawn new processes, connect to their input/output/error pipes, and obtain their return codes."
   ]
  },
  {
   "cell_type": "markdown",
   "metadata": {},
   "source": [
    "### subprocess.call()"
   ]
  },
  {
   "cell_type": "markdown",
   "metadata": {},
   "source": [
    "Run the command described by \"args\".\n",
    "\n",
    "We can run the command line with the arguments passed as a list of strings\n",
    "(example 1)  or by setting the shell argument to a True value (example 2) \n",
    "\n",
    "Note, the default value of the shell argument is False. "
   ]
  },
  {
   "cell_type": "code",
   "execution_count": 2,
   "metadata": {},
   "outputs": [],
   "source": [
    "import subprocess"
   ]
  },
  {
   "cell_type": "markdown",
   "metadata": {},
   "source": [
    "Let's look at two examples where we show the summary of disk usage using\n",
    "subprocess.call(). The return result is the exit code returned by the process that was spawned and exited. Zero means success by convention."
   ]
  },
  {
   "cell_type": "code",
   "execution_count": 6,
   "metadata": {},
   "outputs": [
    {
     "data": {
      "text/plain": [
       "0"
      ]
     },
     "execution_count": 6,
     "metadata": {},
     "output_type": "execute_result"
    }
   ],
   "source": [
    "subprocess.call(['df', '-hT'])"
   ]
  },
  {
   "cell_type": "markdown",
   "metadata": {},
   "source": [
    "This time we set the shell argument to True"
   ]
  },
  {
   "cell_type": "code",
   "execution_count": 9,
   "metadata": {},
   "outputs": [
    {
     "data": {
      "text/plain": [
       "0"
      ]
     },
     "execution_count": 9,
     "metadata": {},
     "output_type": "execute_result"
    }
   ],
   "source": [
    "subprocess.call('sleep 3', shell=True)"
   ]
  },
  {
   "cell_type": "markdown",
   "metadata": {},
   "source": [
    "Note, the official Python documentation states a warning about using the\n",
    "shell=True argument.\n",
    "\n",
    "\"Invoking the system shell with shell=True can be a security hazard if combined\n",
    "with untrusted input\""
   ]
  },
  {
   "cell_type": "markdown",
   "metadata": {},
   "source": [
    "Now, let's move on and look at the Input / Output."
   ]
  },
  {
   "cell_type": "markdown",
   "metadata": {},
   "source": [
    "### Now, let's move on and look at the Input / Output."
   ]
  },
  {
   "cell_type": "markdown",
   "metadata": {},
   "source": [
    "With subprocess you can suppress the output, which is very handy when you\n",
    "want to run a system call but are not interested about the standard output. \n",
    "\n",
    "It also gives you a way to cleanly integrate shell commands into your scripts\n",
    "while managing input/output in a standard way.\n",
    "\n",
    "Let's write our own ping program where we first ask the user for input,\n",
    "and then perform the ping request to that host."
   ]
  },
  {
   "cell_type": "code",
   "execution_count": 24,
   "metadata": {
    "scrolled": false
   },
   "outputs": [
    {
     "name": "stdout",
     "output_type": "stream",
     "text": [
      "Enter a host to ping: localhost\n",
      "PING localhost.localdomain (127.0.0.1) 56(84) bytes of data.\n",
      "64 bytes from localhost.localdomain (127.0.0.1): icmp_seq=1 ttl=64 time=0.057 ms\n",
      "64 bytes from localhost.localdomain (127.0.0.1): icmp_seq=2 ttl=64 time=0.058 ms\n",
      "\n",
      "--- localhost.localdomain ping statistics ---\n",
      "2 packets transmitted, 2 received, 0% packet loss, time 1063ms\n",
      "rtt min/avg/max/mdev = 0.057/0.057/0.058/0.007 ms\n",
      "\n"
     ]
    }
   ],
   "source": [
    "# Import the module\n",
    "import subprocess\n",
    "\n",
    "# Ask the user for input\n",
    "host = input(\"Enter a host to ping: \")\t\n",
    "\n",
    "# Set up the echo command and direct the output to a pipe\n",
    "p1 = subprocess.Popen(['ping', '-c 2', host], stdout=subprocess.PIPE)\n",
    "\n",
    "# Run the command\n",
    "output = p1.communicate()\n",
    "data = output[0].decode(\"utf-8\").split(\"\\n\") #Note: the decode method converts byte arrays to unicode codepoints which could each be single- or multi-byte\n",
    "\n",
    "for line in data:\n",
    "    print(line)"
   ]
  },
  {
   "cell_type": "markdown",
   "metadata": {},
   "source": [
    "Another example, capturing standard error:"
   ]
  },
  {
   "cell_type": "code",
   "execution_count": 8,
   "metadata": {},
   "outputs": [
    {
     "name": "stdout",
     "output_type": "stream",
     "text": [
      "traceroute to google.com (216.58.199.78), 30 hops max, 60 byte packets\n",
      " 1  ec2-54-252-0-46.ap-southeast-2.compute.amazonaws.com (54.252.0.46)  6.872 ms *  6.855 ms\n",
      " 2  100.64.0.74 (100.64.0.74)  12.350 ms 100.64.1.78 (100.64.1.78)  16.364 ms 100.64.3.202 (100.64.3.202)  22.365 ms\n",
      " 3  100.64.2.199 (100.64.2.199)  20.370 ms 100.64.1.3 (100.64.1.3)  12.283 ms 100.64.2.131 (100.64.2.131)  12.280 ms\n",
      " 4  100.64.17.7 (100.64.17.7)  0.795 ms 100.64.17.217 (100.64.17.217)  0.737 ms 100.64.16.7 (100.64.16.7)  0.769 ms\n",
      " 5  54.240.192.254 (54.240.192.254)  1.735 ms 54.240.192.106 (54.240.192.106)  1.698 ms 54.240.192.254 (54.240.192.254)  1.786 ms\n",
      " 6  52.95.36.88 (52.95.36.88)  12.429 ms 52.95.36.136 (52.95.36.136)  4.807 ms 52.95.36.40 (52.95.36.40)  8.421 ms\n",
      " 7  52.95.36.49 (52.95.36.49)  1.454 ms 52.95.36.33 (52.95.36.33)  1.523 ms 52.95.36.129 (52.95.36.129)  1.480 ms\n",
      " 8  52.95.219.153 (52.95.219.153)  1.518 ms  1.324 ms 52.95.216.185 (52.95.216.185)  1.349 ms\n",
      " 9  108.170.247.81 (108.170.247.81)  1.665 ms 108.170.247.49 (108.170.247.49)  1.640 ms  1.618 ms\n",
      "10  209.85.248.173 (209.85.248.173)  1.675 ms 209.85.248.253 (209.85.248.253)  1.609 ms 209.85.248.173 (209.85.248.173)  1.604 ms\n",
      "11  syd15s01-in-f14.1e100.net (216.58.199.78)  1.204 ms  1.566 ms  1.207 ms\n",
      "\n"
     ]
    }
   ],
   "source": [
    "import subprocess\n",
    "\n",
    "my_process = subprocess.Popen(\"traceroute google.com 2>&1\", stdout=subprocess.PIPE, shell=True)\n",
    "output = my_process.stdout.read()\n",
    "output = output.decode(\"utf-8\")\n",
    "print(output)"
   ]
  },
  {
   "cell_type": "code",
   "execution_count": 28,
   "metadata": {},
   "outputs": [
    {
     "name": "stdout",
     "output_type": "stream",
     "text": [
      "stdout was:\n",
      "b''\n",
      "\n",
      "\n",
      "stderr was:\n",
      "b\"ls: cannot access 'bogusfile': No such file or directory\\n\"\n"
     ]
    }
   ],
   "source": [
    "p1 = subprocess.Popen(\"ls bogusfile\", stdout=subprocess.PIPE, stderr=subprocess.PIPE, shell=True)\n",
    "\n",
    "output = p1.stdout.read()\n",
    "error = p1.stderr.read()\n",
    "\n",
    "print(\"stdout was:\")\n",
    "print(output)\n",
    "print(\"\\n\")\n",
    "print(\"stderr was:\")\n",
    "print(error)"
   ]
  },
  {
   "cell_type": "code",
   "execution_count": null,
   "metadata": {},
   "outputs": [],
   "source": []
  }
 ],
 "metadata": {
  "kernelspec": {
   "display_name": "Python 3",
   "language": "python",
   "name": "python3"
  },
  "language_info": {
   "codemirror_mode": {
    "name": "ipython",
    "version": 3
   },
   "file_extension": ".py",
   "mimetype": "text/x-python",
   "name": "python",
   "nbconvert_exporter": "python",
   "pygments_lexer": "ipython3",
   "version": "3.6.2"
  }
 },
 "nbformat": 4,
 "nbformat_minor": 2
}
